{
 "cells": [
  {
   "cell_type": "code",
   "execution_count": 1,
   "metadata": {},
   "outputs": [
    {
     "data": {
      "text/plain": [
       "'cc342924d3953f6ddb2a1a4731d4987f'"
      ]
     },
     "execution_count": 1,
     "metadata": {},
     "output_type": "execute_result"
    }
   ],
   "source": [
    "from dotenv import load_dotenv\n",
    "load_dotenv()\n",
    "import os\n",
    "\n",
    "API_KEY = os.getenv(\"DARKSKY_API_KEY\")\n",
    "API_KEY"
   ]
  },
  {
   "cell_type": "code",
   "execution_count": 2,
   "metadata": {},
   "outputs": [],
   "source": [
    "import requests\n",
    "response = requests.get(f'https://api.darksky.net/forecast/{API_KEY}/37.8267,-122.4233')\n",
    "data = response.json()"
   ]
  },
  {
   "cell_type": "code",
   "execution_count": 3,
   "metadata": {
    "scrolled": false
   },
   "outputs": [
    {
     "name": "stdout",
     "output_type": "stream",
     "text": [
      "{'latitude': 37.8267, 'longitude': -122.4233, 'timezone': 'America/Los_Angeles', 'currently': {'time': 1559839186, 'summary': 'Partly Cloudy', 'icon': 'partly-cloudy-day', 'nearestStormDistance': 147, 'nearestStormBearing': 56, 'precipIntensity': 0, 'precipProbability': 0, 'temperature': 57.95, 'apparentTemperature': 57.95, 'dewPoint': 49.76, 'humidity': 0.74, 'pressure': 1014.92, 'windSpeed': 8.06, 'windGust': 15.75, 'windBearing': 266, 'cloudCover': 0.4, 'uvIndex': 4, 'visibility': 9.73, 'ozone': 323.54}, 'minutely': {'summary': 'Partly cloudy for the hour.', 'icon': 'partly-cloudy-day', 'data': [{'time': 1559839140, 'precipIntensity': 0, 'precipProbability': 0}, {'time': 1559839200, 'precipIntensity': 0, 'precipProbability': 0}, {'time': 1559839260, 'precipIntensity': 0, 'precipProbability': 0}, {'time': 1559839320, 'precipIntensity': 0, 'precipProbability': 0}, {'time': 1559839380, 'precipIntensity': 0, 'precipProbability': 0}, {'time': 1559839440, 'precipIntensity': 0, 'precipProbability': 0}, {'time': 1559839500, 'precipIntensity': 0, 'precipProbability': 0}, {'time': 1559839560, 'precipIntensity': 0, 'precipProbability': 0}, {'time': 1559839620, 'precipIntensity': 0, 'precipProbability': 0}, {'time': 1559839680, 'precipIntensity': 0, 'precipProbability': 0}, {'time': 1559839740, 'precipIntensity': 0, 'precipProbability': 0}, {'time': 1559839800, 'precipIntensity': 0, 'precipProbability': 0}, {'time': 1559839860, 'precipIntensity': 0, 'precipProbability': 0}, {'time': 1559839920, 'precipIntensity': 0, 'precipProbability': 0}, {'time': 1559839980, 'precipIntensity': 0, 'precipProbability': 0}, {'time': 1559840040, 'precipIntensity': 0, 'precipProbability': 0}, {'time': 1559840100, 'precipIntensity': 0, 'precipProbability': 0}, {'time': 1559840160, 'precipIntensity': 0, 'precipProbability': 0}, {'time': 1559840220, 'precipIntensity': 0, 'precipProbability': 0}, {'time': 1559840280, 'precipIntensity': 0, 'precipProbability': 0}, {'time': 1559840340, 'precipIntensity': 0, 'precipProbability': 0}, {'time': 1559840400, 'precipIntensity': 0, 'precipProbability': 0}, {'time': 1559840460, 'precipIntensity': 0, 'precipProbability': 0}, {'time': 1559840520, 'precipIntensity': 0, 'precipProbability': 0}, {'time': 1559840580, 'precipIntensity': 0, 'precipProbability': 0}, {'time': 1559840640, 'precipIntensity': 0, 'precipProbability': 0}, {'time': 1559840700, 'precipIntensity': 0, 'precipProbability': 0}, {'time': 1559840760, 'precipIntensity': 0, 'precipProbability': 0}, {'time': 1559840820, 'precipIntensity': 0, 'precipProbability': 0}, {'time': 1559840880, 'precipIntensity': 0, 'precipProbability': 0}, {'time': 1559840940, 'precipIntensity': 0, 'precipProbability': 0}, {'time': 1559841000, 'precipIntensity': 0, 'precipProbability': 0}, {'time': 1559841060, 'precipIntensity': 0, 'precipProbability': 0}, {'time': 1559841120, 'precipIntensity': 0, 'precipProbability': 0}, {'time': 1559841180, 'precipIntensity': 0, 'precipProbability': 0}, {'time': 1559841240, 'precipIntensity': 0, 'precipProbability': 0}, {'time': 1559841300, 'precipIntensity': 0, 'precipProbability': 0}, {'time': 1559841360, 'precipIntensity': 0, 'precipProbability': 0}, {'time': 1559841420, 'precipIntensity': 0, 'precipProbability': 0}, {'time': 1559841480, 'precipIntensity': 0, 'precipProbability': 0}, {'time': 1559841540, 'precipIntensity': 0, 'precipProbability': 0}, {'time': 1559841600, 'precipIntensity': 0, 'precipProbability': 0}, {'time': 1559841660, 'precipIntensity': 0, 'precipProbability': 0}, {'time': 1559841720, 'precipIntensity': 0, 'precipProbability': 0}, {'time': 1559841780, 'precipIntensity': 0, 'precipProbability': 0}, {'time': 1559841840, 'precipIntensity': 0, 'precipProbability': 0}, {'time': 1559841900, 'precipIntensity': 0, 'precipProbability': 0}, {'time': 1559841960, 'precipIntensity': 0, 'precipProbability': 0}, {'time': 1559842020, 'precipIntensity': 0, 'precipProbability': 0}, {'time': 1559842080, 'precipIntensity': 0, 'precipProbability': 0}, {'time': 1559842140, 'precipIntensity': 0, 'precipProbability': 0}, {'time': 1559842200, 'precipIntensity': 0, 'precipProbability': 0}, {'time': 1559842260, 'precipIntensity': 0, 'precipProbability': 0}, {'time': 1559842320, 'precipIntensity': 0, 'precipProbability': 0}, {'time': 1559842380, 'precipIntensity': 0, 'precipProbability': 0}, {'time': 1559842440, 'precipIntensity': 0, 'precipProbability': 0}, {'time': 1559842500, 'precipIntensity': 0, 'precipProbability': 0}, {'time': 1559842560, 'precipIntensity': 0, 'precipProbability': 0}, {'time': 1559842620, 'precipIntensity': 0, 'precipProbability': 0}, {'time': 1559842680, 'precipIntensity': 0, 'precipProbability': 0}, {'time': 1559842740, 'precipIntensity': 0, 'precipProbability': 0}]}, 'hourly': {'summary': 'Partly cloudy later this morning.', 'icon': 'partly-cloudy-day', 'data': [{'time': 1559836800, 'summary': 'Partly Cloudy', 'icon': 'partly-cloudy-day', 'precipIntensity': 0, 'precipProbability': 0, 'temperature': 56.88, 'apparentTemperature': 56.88, 'dewPoint': 49.76, 'humidity': 0.77, 'pressure': 1014.83, 'windSpeed': 7.5, 'windGust': 14.34, 'windBearing': 269, 'cloudCover': 0.42, 'uvIndex': 3, 'visibility': 9.19, 'ozone': 321.51}, {'time': 1559840400, 'summary': 'Partly Cloudy', 'icon': 'partly-cloudy-day', 'precipIntensity': 0, 'precipProbability': 0, 'temperature': 58.49, 'apparentTemperature': 58.49, 'dewPoint': 49.74, 'humidity': 0.73, 'pressure': 1014.96, 'windSpeed': 8.35, 'windGust': 16.47, 'windBearing': 264, 'cloudCover': 0.39, 'uvIndex': 4, 'visibility': 10, 'ozone': 324.57}, {'time': 1559844000, 'summary': 'Partly Cloudy', 'icon': 'partly-cloudy-day', 'precipIntensity': 0, 'precipProbability': 0, 'temperature': 60.29, 'apparentTemperature': 60.29, 'dewPoint': 50.21, 'humidity': 0.69, 'pressure': 1014.54, 'windSpeed': 11.33, 'windGust': 19.1, 'windBearing': 271, 'cloudCover': 0.27, 'uvIndex': 6, 'visibility': 10, 'ozone': 326.62}, {'time': 1559847600, 'summary': 'Clear', 'icon': 'clear-day', 'precipIntensity': 0, 'precipProbability': 0, 'temperature': 61.29, 'apparentTemperature': 61.29, 'dewPoint': 50.23, 'humidity': 0.67, 'pressure': 1014.36, 'windSpeed': 13.1, 'windGust': 21.45, 'windBearing': 270, 'cloudCover': 0.18, 'uvIndex': 8, 'visibility': 10, 'ozone': 326.67}, {'time': 1559851200, 'summary': 'Clear', 'icon': 'clear-day', 'precipIntensity': 0.001, 'precipProbability': 0.01, 'precipType': 'rain', 'temperature': 62.23, 'apparentTemperature': 62.23, 'dewPoint': 49.91, 'humidity': 0.64, 'pressure': 1014.18, 'windSpeed': 14.4, 'windGust': 23.11, 'windBearing': 276, 'cloudCover': 0.11, 'uvIndex': 9, 'visibility': 10, 'ozone': 325.63}, {'time': 1559854800, 'summary': 'Clear', 'icon': 'clear-day', 'precipIntensity': 0, 'precipProbability': 0, 'temperature': 63.08, 'apparentTemperature': 63.08, 'dewPoint': 49.53, 'humidity': 0.61, 'pressure': 1013.9, 'windSpeed': 15.08, 'windGust': 24.32, 'windBearing': 274, 'cloudCover': 0.06, 'uvIndex': 9, 'visibility': 10, 'ozone': 324.49}, {'time': 1559858400, 'summary': 'Clear', 'icon': 'clear-day', 'precipIntensity': 0, 'precipProbability': 0, 'temperature': 63.43, 'apparentTemperature': 63.43, 'dewPoint': 48.79, 'humidity': 0.59, 'pressure': 1014.03, 'windSpeed': 15.36, 'windGust': 26.07, 'windBearing': 268, 'cloudCover': 0.07, 'uvIndex': 8, 'visibility': 10, 'ozone': 323.26}, {'time': 1559862000, 'summary': 'Clear', 'icon': 'clear-day', 'precipIntensity': 0, 'precipProbability': 0, 'temperature': 63.33, 'apparentTemperature': 63.33, 'dewPoint': 47.99, 'humidity': 0.57, 'pressure': 1014.21, 'windSpeed': 16.41, 'windGust': 27.55, 'windBearing': 289, 'cloudCover': 0.08, 'uvIndex': 6, 'visibility': 10, 'ozone': 321.85}, {'time': 1559865600, 'summary': 'Clear', 'icon': 'clear-day', 'precipIntensity': 0.0016, 'precipProbability': 0.02, 'precipType': 'rain', 'temperature': 62.45, 'apparentTemperature': 62.45, 'dewPoint': 47.23, 'humidity': 0.57, 'pressure': 1014.44, 'windSpeed': 17, 'windGust': 28.34, 'windBearing': 282, 'cloudCover': 0.13, 'uvIndex': 3, 'visibility': 10, 'ozone': 321.57}, {'time': 1559869200, 'summary': 'Clear', 'icon': 'clear-day', 'precipIntensity': 0.0003, 'precipProbability': 0.02, 'precipType': 'rain', 'temperature': 60.99, 'apparentTemperature': 60.99, 'dewPoint': 46.67, 'humidity': 0.59, 'pressure': 1014.34, 'windSpeed': 16.68, 'windGust': 28.24, 'windBearing': 287, 'cloudCover': 0.24, 'uvIndex': 2, 'visibility': 10, 'ozone': 323.55}, {'time': 1559872800, 'summary': 'Clear', 'icon': 'clear-day', 'precipIntensity': 0, 'precipProbability': 0, 'temperature': 59.16, 'apparentTemperature': 59.16, 'dewPoint': 46.37, 'humidity': 0.63, 'pressure': 1014.17, 'windSpeed': 16.49, 'windGust': 27.97, 'windBearing': 283, 'cloudCover': 0.06, 'uvIndex': 0, 'visibility': 10, 'ozone': 326.59}, {'time': 1559876400, 'summary': 'Clear', 'icon': 'clear-day', 'precipIntensity': 0, 'precipProbability': 0, 'temperature': 58.1, 'apparentTemperature': 58.1, 'dewPoint': 46.14, 'humidity': 0.64, 'pressure': 1014.2, 'windSpeed': 15.74, 'windGust': 26.79, 'windBearing': 287, 'cloudCover': 0.04, 'uvIndex': 0, 'visibility': 10, 'ozone': 328.73}, {'time': 1559880000, 'summary': 'Clear', 'icon': 'clear-night', 'precipIntensity': 0.0014, 'precipProbability': 0.02, 'precipType': 'rain', 'temperature': 57.26, 'apparentTemperature': 57.26, 'dewPoint': 45.9, 'humidity': 0.66, 'pressure': 1014.6, 'windSpeed': 14.65, 'windGust': 25.64, 'windBearing': 289, 'cloudCover': 0.04, 'uvIndex': 0, 'visibility': 10, 'ozone': 328.85}, {'time': 1559883600, 'summary': 'Clear', 'icon': 'clear-night', 'precipIntensity': 0, 'precipProbability': 0, 'temperature': 56.59, 'apparentTemperature': 56.59, 'dewPoint': 45.72, 'humidity': 0.67, 'pressure': 1015.09, 'windSpeed': 13.6, 'windGust': 24.27, 'windBearing': 289, 'cloudCover': 0.04, 'uvIndex': 0, 'visibility': 10, 'ozone': 327.99}, {'time': 1559887200, 'summary': 'Clear', 'icon': 'clear-night', 'precipIntensity': 0, 'precipProbability': 0, 'temperature': 55.83, 'apparentTemperature': 55.83, 'dewPoint': 45.6, 'humidity': 0.68, 'pressure': 1015.59, 'windSpeed': 13.48, 'windGust': 23.72, 'windBearing': 291, 'cloudCover': 0.05, 'uvIndex': 0, 'visibility': 10, 'ozone': 327.5}, {'time': 1559890800, 'summary': 'Clear', 'icon': 'clear-night', 'precipIntensity': 0, 'precipProbability': 0, 'temperature': 55.38, 'apparentTemperature': 55.38, 'dewPoint': 45.02, 'humidity': 0.68, 'pressure': 1015.75, 'windSpeed': 12.86, 'windGust': 22.97, 'windBearing': 289, 'cloudCover': 0.04, 'uvIndex': 0, 'visibility': 10, 'ozone': 327.9}, {'time': 1559894400, 'summary': 'Clear', 'icon': 'clear-night', 'precipIntensity': 0, 'precipProbability': 0, 'temperature': 55.02, 'apparentTemperature': 55.02, 'dewPoint': 44.23, 'humidity': 0.67, 'pressure': 1015.72, 'windSpeed': 12.73, 'windGust': 21.86, 'windBearing': 305, 'cloudCover': 0.02, 'uvIndex': 0, 'visibility': 10, 'ozone': 328.65}, {'time': 1559898000, 'summary': 'Clear', 'icon': 'clear-night', 'precipIntensity': 0, 'precipProbability': 0, 'temperature': 54.72, 'apparentTemperature': 54.72, 'dewPoint': 43.48, 'humidity': 0.66, 'pressure': 1015.7, 'windSpeed': 12.36, 'windGust': 20.59, 'windBearing': 300, 'cloudCover': 0.01, 'uvIndex': 0, 'visibility': 10, 'ozone': 329.2}, {'time': 1559901600, 'summary': 'Clear', 'icon': 'clear-night', 'precipIntensity': 0, 'precipProbability': 0, 'temperature': 54.09, 'apparentTemperature': 54.09, 'dewPoint': 42.81, 'humidity': 0.66, 'pressure': 1015.76, 'windSpeed': 11.78, 'windGust': 19.28, 'windBearing': 298, 'cloudCover': 0.01, 'uvIndex': 0, 'visibility': 10, 'ozone': 329.32}, {'time': 1559905200, 'summary': 'Clear', 'icon': 'clear-night', 'precipIntensity': 0, 'precipProbability': 0, 'temperature': 53.48, 'apparentTemperature': 53.48, 'dewPoint': 42.16, 'humidity': 0.65, 'pressure': 1015.81, 'windSpeed': 12.13, 'windGust': 17.82, 'windBearing': 311, 'cloudCover': 0.01, 'uvIndex': 0, 'visibility': 10, 'ozone': 329.37}, {'time': 1559908800, 'summary': 'Clear', 'icon': 'clear-night', 'precipIntensity': 0, 'precipProbability': 0, 'temperature': 53.02, 'apparentTemperature': 53.02, 'dewPoint': 41.62, 'humidity': 0.65, 'pressure': 1016.01, 'windSpeed': 11.67, 'windGust': 16.36, 'windBearing': 311, 'cloudCover': 0, 'uvIndex': 0, 'visibility': 10, 'ozone': 329.2}, {'time': 1559912400, 'summary': 'Clear', 'icon': 'clear-day', 'precipIntensity': 0, 'precipProbability': 0, 'temperature': 53.44, 'apparentTemperature': 53.44, 'dewPoint': 41.14, 'humidity': 0.63, 'pressure': 1016.4, 'windSpeed': 10.9, 'windGust': 14.94, 'windBearing': 313, 'cloudCover': 0.07, 'uvIndex': 0, 'visibility': 10, 'ozone': 328.72}, {'time': 1559916000, 'summary': 'Clear', 'icon': 'clear-day', 'precipIntensity': 0, 'precipProbability': 0, 'temperature': 54.3, 'apparentTemperature': 54.3, 'dewPoint': 40.81, 'humidity': 0.6, 'pressure': 1016.89, 'windSpeed': 10.39, 'windGust': 13.51, 'windBearing': 318, 'cloudCover': 0.16, 'uvIndex': 0, 'visibility': 10, 'ozone': 328.04}, {'time': 1559919600, 'summary': 'Clear', 'icon': 'clear-day', 'precipIntensity': 0, 'precipProbability': 0, 'temperature': 55.86, 'apparentTemperature': 55.86, 'dewPoint': 40.78, 'humidity': 0.57, 'pressure': 1017.32, 'windSpeed': 9.59, 'windGust': 12.15, 'windBearing': 319, 'cloudCover': 0.22, 'uvIndex': 1, 'visibility': 10, 'ozone': 327.42}, {'time': 1559923200, 'summary': 'Clear', 'icon': 'clear-day', 'precipIntensity': 0, 'precipProbability': 0, 'temperature': 58.13, 'apparentTemperature': 58.13, 'dewPoint': 41.27, 'humidity': 0.53, 'pressure': 1017.54, 'windSpeed': 8.67, 'windGust': 10.66, 'windBearing': 318, 'cloudCover': 0.23, 'uvIndex': 3, 'visibility': 10, 'ozone': 327.01}, {'time': 1559926800, 'summary': 'Clear', 'icon': 'clear-day', 'precipIntensity': 0, 'precipProbability': 0, 'temperature': 60.48, 'apparentTemperature': 60.48, 'dewPoint': 42.1, 'humidity': 0.51, 'pressure': 1017.68, 'windSpeed': 7.68, 'windGust': 9.23, 'windBearing': 317, 'cloudCover': 0.2, 'uvIndex': 5, 'visibility': 10, 'ozone': 326.59}, {'time': 1559930400, 'summary': 'Clear', 'icon': 'clear-day', 'precipIntensity': 0, 'precipProbability': 0, 'temperature': 62.42, 'apparentTemperature': 62.42, 'dewPoint': 42.98, 'humidity': 0.49, 'pressure': 1017.69, 'windSpeed': 7.19, 'windGust': 8.47, 'windBearing': 315, 'cloudCover': 0.17, 'uvIndex': 7, 'visibility': 10, 'ozone': 326.05}, {'time': 1559934000, 'summary': 'Clear', 'icon': 'clear-day', 'precipIntensity': 0, 'precipProbability': 0, 'temperature': 63.5, 'apparentTemperature': 63.5, 'dewPoint': 43.69, 'humidity': 0.48, 'pressure': 1017.65, 'windSpeed': 7.66, 'windGust': 8.73, 'windBearing': 308, 'cloudCover': 0.12, 'uvIndex': 8, 'visibility': 10, 'ozone': 325.23}, {'time': 1559937600, 'summary': 'Clear', 'icon': 'clear-day', 'precipIntensity': 0, 'precipProbability': 0, 'temperature': 65.03, 'apparentTemperature': 65.03, 'dewPoint': 44.31, 'humidity': 0.47, 'pressure': 1017.51, 'windSpeed': 8.71, 'windGust': 9.7, 'windBearing': 300, 'cloudCover': 0.07, 'uvIndex': 9, 'visibility': 10, 'ozone': 324.38}, {'time': 1559941200, 'summary': 'Clear', 'icon': 'clear-day', 'precipIntensity': 0, 'precipProbability': 0, 'temperature': 66.83, 'apparentTemperature': 66.83, 'dewPoint': 44.89, 'humidity': 0.45, 'pressure': 1017.26, 'windSpeed': 9.75, 'windGust': 10.89, 'windBearing': 294, 'cloudCover': 0.02, 'uvIndex': 9, 'visibility': 10, 'ozone': 323.39}, {'time': 1559944800, 'summary': 'Clear', 'icon': 'clear-day', 'precipIntensity': 0, 'precipProbability': 0, 'temperature': 68.11, 'apparentTemperature': 68.11, 'dewPoint': 45.46, 'humidity': 0.44, 'pressure': 1016.79, 'windSpeed': 10.69, 'windGust': 12.43, 'windBearing': 292, 'cloudCover': 0.01, 'uvIndex': 8, 'visibility': 10, 'ozone': 322.31}, {'time': 1559948400, 'summary': 'Clear', 'icon': 'clear-day', 'precipIntensity': 0.0002, 'precipProbability': 0.01, 'precipType': 'rain', 'temperature': 69.02, 'apparentTemperature': 69.02, 'dewPoint': 46.04, 'humidity': 0.44, 'pressure': 1016.21, 'windSpeed': 11.61, 'windGust': 14.19, 'windBearing': 293, 'cloudCover': 0.01, 'uvIndex': 6, 'visibility': 10, 'ozone': 321.26}, {'time': 1559952000, 'summary': 'Clear', 'icon': 'clear-day', 'precipIntensity': 0.0002, 'precipProbability': 0.01, 'precipType': 'rain', 'temperature': 68.73, 'apparentTemperature': 68.73, 'dewPoint': 46.66, 'humidity': 0.45, 'pressure': 1015.73, 'windSpeed': 12.06, 'windGust': 15.36, 'windBearing': 296, 'cloudCover': 0.01, 'uvIndex': 4, 'visibility': 10, 'ozone': 320.4}, {'time': 1559955600, 'summary': 'Clear', 'icon': 'clear-day', 'precipIntensity': 0, 'precipProbability': 0, 'temperature': 67.69, 'apparentTemperature': 67.69, 'dewPoint': 47.4, 'humidity': 0.48, 'pressure': 1015.4, 'windSpeed': 11.42, 'windGust': 15.69, 'windBearing': 304, 'cloudCover': 0.01, 'uvIndex': 2, 'visibility': 10, 'ozone': 319.81}, {'time': 1559959200, 'summary': 'Clear', 'icon': 'clear-day', 'precipIntensity': 0, 'precipProbability': 0, 'temperature': 66.38, 'apparentTemperature': 66.38, 'dewPoint': 48.2, 'humidity': 0.52, 'pressure': 1015.14, 'windSpeed': 10.76, 'windGust': 15.5, 'windBearing': 295, 'cloudCover': 0.01, 'uvIndex': 0, 'visibility': 10, 'ozone': 319.45}, {'time': 1559962800, 'summary': 'Clear', 'icon': 'clear-day', 'precipIntensity': 0, 'precipProbability': 0, 'temperature': 65.62, 'apparentTemperature': 65.62, 'dewPoint': 48.75, 'humidity': 0.54, 'pressure': 1015.07, 'windSpeed': 10.1, 'windGust': 14.87, 'windBearing': 300, 'cloudCover': 0, 'uvIndex': 0, 'visibility': 10, 'ozone': 319.33}, {'time': 1559966400, 'summary': 'Clear', 'icon': 'clear-night', 'precipIntensity': 0, 'precipProbability': 0, 'temperature': 64.23, 'apparentTemperature': 64.23, 'dewPoint': 48.96, 'humidity': 0.58, 'pressure': 1015.33, 'windSpeed': 9.43, 'windGust': 13.32, 'windBearing': 301, 'cloudCover': 0, 'uvIndex': 0, 'visibility': 10, 'ozone': 319.71}, {'time': 1559970000, 'summary': 'Clear', 'icon': 'clear-night', 'precipIntensity': 0, 'precipProbability': 0, 'temperature': 63.09, 'apparentTemperature': 63.09, 'dewPoint': 48.9, 'humidity': 0.6, 'pressure': 1015.74, 'windSpeed': 8.99, 'windGust': 11.33, 'windBearing': 315, 'cloudCover': 0, 'uvIndex': 0, 'visibility': 10, 'ozone': 320.34}, {'time': 1559973600, 'summary': 'Clear', 'icon': 'clear-night', 'precipIntensity': 0, 'precipProbability': 0, 'temperature': 62.29, 'apparentTemperature': 62.29, 'dewPoint': 48.64, 'humidity': 0.61, 'pressure': 1015.98, 'windSpeed': 8.71, 'windGust': 10.01, 'windBearing': 311, 'cloudCover': 0, 'uvIndex': 0, 'visibility': 10, 'ozone': 320.81}, {'time': 1559977200, 'summary': 'Clear', 'icon': 'clear-night', 'precipIntensity': 0, 'precipProbability': 0, 'temperature': 61.58, 'apparentTemperature': 61.58, 'dewPoint': 48.1, 'humidity': 0.61, 'pressure': 1015.86, 'windSpeed': 8.87, 'windGust': 9.83, 'windBearing': 312, 'cloudCover': 0, 'uvIndex': 0, 'visibility': 10, 'ozone': 321.07}, {'time': 1559980800, 'summary': 'Clear', 'icon': 'clear-night', 'precipIntensity': 0, 'precipProbability': 0, 'temperature': 61.01, 'apparentTemperature': 61.01, 'dewPoint': 47.33, 'humidity': 0.61, 'pressure': 1015.59, 'windSpeed': 9.33, 'windGust': 10.13, 'windBearing': 313, 'cloudCover': 0, 'uvIndex': 0, 'visibility': 10, 'ozone': 321.19}, {'time': 1559984400, 'summary': 'Clear', 'icon': 'clear-night', 'precipIntensity': 0, 'precipProbability': 0, 'temperature': 60.53, 'apparentTemperature': 60.53, 'dewPoint': 46.42, 'humidity': 0.6, 'pressure': 1015.27, 'windSpeed': 9.64, 'windGust': 10.21, 'windBearing': 316, 'cloudCover': 0, 'uvIndex': 0, 'visibility': 10, 'ozone': 320.94}, {'time': 1559988000, 'summary': 'Clear', 'icon': 'clear-night', 'precipIntensity': 0, 'precipProbability': 0, 'temperature': 59.8, 'apparentTemperature': 59.8, 'dewPoint': 45.26, 'humidity': 0.59, 'pressure': 1014.92, 'windSpeed': 9.51, 'windGust': 9.92, 'windBearing': 321, 'cloudCover': 0, 'uvIndex': 0, 'visibility': 10, 'ozone': 320.14}, {'time': 1559991600, 'summary': 'Clear', 'icon': 'clear-night', 'precipIntensity': 0, 'precipProbability': 0, 'temperature': 59.05, 'apparentTemperature': 59.05, 'dewPoint': 43.93, 'humidity': 0.57, 'pressure': 1014.54, 'windSpeed': 9.16, 'windGust': 9.87, 'windBearing': 327, 'cloudCover': 0, 'uvIndex': 0, 'visibility': 10, 'ozone': 319.02}, {'time': 1559995200, 'summary': 'Clear', 'icon': 'clear-night', 'precipIntensity': 0.0002, 'precipProbability': 0.01, 'precipType': 'rain', 'temperature': 58.68, 'apparentTemperature': 58.68, 'dewPoint': 42.86, 'humidity': 0.56, 'pressure': 1014.31, 'windSpeed': 8.75, 'windGust': 9.79, 'windBearing': 333, 'cloudCover': 0, 'uvIndex': 0, 'visibility': 10, 'ozone': 318.31}, {'time': 1559998800, 'summary': 'Clear', 'icon': 'clear-day', 'precipIntensity': 0, 'precipProbability': 0, 'temperature': 59.44, 'apparentTemperature': 59.44, 'dewPoint': 42.22, 'humidity': 0.53, 'pressure': 1014.36, 'windSpeed': 8.31, 'windGust': 9.73, 'windBearing': 339, 'cloudCover': 0.01, 'uvIndex': 0, 'visibility': 10, 'ozone': 318.32}, {'time': 1560002400, 'summary': 'Clear', 'icon': 'clear-day', 'precipIntensity': 0, 'precipProbability': 0, 'temperature': 60.9, 'apparentTemperature': 60.9, 'dewPoint': 41.79, 'humidity': 0.49, 'pressure': 1014.55, 'windSpeed': 7.83, 'windGust': 10.47, 'windBearing': 343, 'cloudCover': 0.02, 'uvIndex': 0, 'visibility': 10, 'ozone': 318.6}, {'time': 1560006000, 'summary': 'Clear', 'icon': 'clear-day', 'precipIntensity': 0, 'precipProbability': 0, 'temperature': 62.77, 'apparentTemperature': 62.77, 'dewPoint': 41.55, 'humidity': 0.46, 'pressure': 1014.74, 'windSpeed': 7.53, 'windGust': 10.96, 'windBearing': 347, 'cloudCover': 0.04, 'uvIndex': 1, 'visibility': 10, 'ozone': 318.56}, {'time': 1560009600, 'summary': 'Clear', 'icon': 'clear-day', 'precipIntensity': 0, 'precipProbability': 0, 'temperature': 64.78, 'apparentTemperature': 64.78, 'dewPoint': 41.5, 'humidity': 0.43, 'pressure': 1014.87, 'windSpeed': 7.53, 'windGust': 10.94, 'windBearing': 350, 'cloudCover': 0.08, 'uvIndex': 3, 'visibility': 10, 'ozone': 317.81}]}, 'daily': {'summary': 'No precipitation throughout the week, with high temperatures rising to 81°F on Sunday.', 'icon': 'clear-day', 'data': [{'time': 1559804400, 'summary': 'Partly cloudy in the morning.', 'icon': 'partly-cloudy-day', 'sunriseTime': 1559825358, 'sunsetTime': 1559878228, 'moonPhase': 0.12, 'precipIntensity': 0.0003, 'precipIntensityMax': 0.0016, 'precipIntensityMaxTime': 1559865600, 'precipProbability': 0.03, 'precipType': 'rain', 'temperatureHigh': 63.43, 'temperatureHighTime': 1559858400, 'temperatureLow': 53.02, 'temperatureLowTime': 1559908800, 'apparentTemperatureHigh': 63.43, 'apparentTemperatureHighTime': 1559858400, 'apparentTemperatureLow': 53.02, 'apparentTemperatureLowTime': 1559908800, 'dewPoint': 48.75, 'humidity': 0.71, 'pressure': 1013.99, 'windSpeed': 10.84, 'windGust': 28.34, 'windGustTime': 1559865600, 'windBearing': 277, 'cloudCover': 0.27, 'uvIndex': 9, 'uvIndexTime': 1559851200, 'visibility': 9.8, 'ozone': 322, 'temperatureMin': 54.33, 'temperatureMinTime': 1559826000, 'temperatureMax': 63.43, 'temperatureMaxTime': 1559858400, 'apparentTemperatureMin': 54.33, 'apparentTemperatureMinTime': 1559826000, 'apparentTemperatureMax': 63.43, 'apparentTemperatureMaxTime': 1559858400}, {'time': 1559890800, 'summary': 'Clear throughout the day.', 'icon': 'clear-day', 'sunriseTime': 1559911746, 'sunsetTime': 1559964662, 'moonPhase': 0.16, 'precipIntensity': 0.0001, 'precipIntensityMax': 0.0002, 'precipIntensityMaxTime': 1559948400, 'precipProbability': 0.01, 'precipType': 'rain', 'temperatureHigh': 69.02, 'temperatureHighTime': 1559948400, 'temperatureLow': 58.68, 'temperatureLowTime': 1559995200, 'apparentTemperatureHigh': 69.02, 'apparentTemperatureHighTime': 1559948400, 'apparentTemperatureLow': 58.68, 'apparentTemperatureLowTime': 1559995200, 'dewPoint': 44.6, 'humidity': 0.56, 'pressure': 1016.34, 'windSpeed': 10.19, 'windGust': 22.97, 'windGustTime': 1559890800, 'windBearing': 304, 'cloudCover': 0.06, 'uvIndex': 9, 'uvIndexTime': 1559937600, 'visibility': 10, 'ozone': 324.75, 'temperatureMin': 53.02, 'temperatureMinTime': 1559908800, 'temperatureMax': 69.02, 'temperatureMaxTime': 1559948400, 'apparentTemperatureMin': 53.02, 'apparentTemperatureMinTime': 1559908800, 'apparentTemperatureMax': 69.02, 'apparentTemperatureMaxTime': 1559948400}, {'time': 1559977200, 'summary': 'Partly cloudy starting in the afternoon.', 'icon': 'partly-cloudy-day', 'sunriseTime': 1559998135, 'sunsetTime': 1560051094, 'moonPhase': 0.2, 'precipIntensity': 0.0001, 'precipIntensityMax': 0.0002, 'precipIntensityMaxTime': 1559995200, 'precipProbability': 0.01, 'precipType': 'rain', 'temperatureHigh': 76.69, 'temperatureHighTime': 1560034800, 'temperatureLow': 63.49, 'temperatureLowTime': 1560078000, 'apparentTemperatureHigh': 76.69, 'apparentTemperatureHighTime': 1560034800, 'apparentTemperatureLow': 63.49, 'apparentTemperatureLowTime': 1560078000, 'dewPoint': 44.61, 'humidity': 0.45, 'pressure': 1014.07, 'windSpeed': 7.44, 'windGust': 11.74, 'windGustTime': 1560034800, 'windBearing': 327, 'cloudCover': 0.23, 'uvIndex': 7, 'uvIndexTime': 1560016800, 'visibility': 10, 'ozone': 316.18, 'temperatureMin': 58.68, 'temperatureMinTime': 1559995200, 'temperatureMax': 76.69, 'temperatureMaxTime': 1560034800, 'apparentTemperatureMin': 58.68, 'apparentTemperatureMinTime': 1559995200, 'apparentTemperatureMax': 76.69, 'apparentTemperatureMaxTime': 1560034800}, {'time': 1560063600, 'summary': 'Mostly cloudy starting in the evening.', 'icon': 'partly-cloudy-night', 'sunriseTime': 1560084527, 'sunsetTime': 1560137525, 'moonPhase': 0.23, 'precipIntensity': 0.0001, 'precipIntensityMax': 0.0002, 'precipIntensityMaxTime': 1560121200, 'precipProbability': 0.01, 'precipType': 'rain', 'temperatureHigh': 81.07, 'temperatureHighTime': 1560117600, 'temperatureLow': 61.83, 'temperatureLowTime': 1560168000, 'apparentTemperatureHigh': 81.07, 'apparentTemperatureHighTime': 1560117600, 'apparentTemperatureLow': 61.83, 'apparentTemperatureLowTime': 1560168000, 'dewPoint': 45.34, 'humidity': 0.4, 'pressure': 1013.01, 'windSpeed': 2.76, 'windGust': 13.28, 'windGustTime': 1560096000, 'windBearing': 2, 'cloudCover': 0.31, 'uvIndex': 9, 'uvIndexTime': 1560110400, 'visibility': 10, 'ozone': 310.86, 'temperatureMin': 63.49, 'temperatureMinTime': 1560078000, 'temperatureMax': 81.07, 'temperatureMaxTime': 1560117600, 'apparentTemperatureMin': 63.49, 'apparentTemperatureMinTime': 1560078000, 'apparentTemperatureMax': 81.07, 'apparentTemperatureMaxTime': 1560117600}, {'time': 1560150000, 'summary': 'Mostly cloudy throughout the day.', 'icon': 'partly-cloudy-day', 'sunriseTime': 1560170920, 'sunsetTime': 1560223955, 'moonPhase': 0.27, 'precipIntensity': 0, 'precipIntensityMax': 0, 'precipProbability': 0, 'temperatureHigh': 77.96, 'temperatureHighTime': 1560200400, 'temperatureLow': 60.13, 'temperatureLowTime': 1560254400, 'apparentTemperatureHigh': 77.96, 'apparentTemperatureHighTime': 1560200400, 'apparentTemperatureLow': 60.13, 'apparentTemperatureLowTime': 1560254400, 'dewPoint': 48.93, 'humidity': 0.49, 'pressure': 1013.23, 'windSpeed': 3.74, 'windGust': 12.88, 'windGustTime': 1560211200, 'windBearing': 236, 'cloudCover': 0.93, 'uvIndex': 5, 'uvIndexTime': 1560193200, 'visibility': 10, 'ozone': 309.22, 'temperatureMin': 61.83, 'temperatureMinTime': 1560168000, 'temperatureMax': 77.96, 'temperatureMaxTime': 1560200400, 'apparentTemperatureMin': 61.83, 'apparentTemperatureMinTime': 1560168000, 'apparentTemperatureMax': 77.96, 'apparentTemperatureMaxTime': 1560200400}, {'time': 1560236400, 'summary': 'Clear throughout the day.', 'icon': 'clear-day', 'sunriseTime': 1560257314, 'sunsetTime': 1560310384, 'moonPhase': 0.31, 'precipIntensity': 0, 'precipIntensityMax': 0, 'precipProbability': 0, 'temperatureHigh': 73.4, 'temperatureHighTime': 1560286800, 'temperatureLow': 58.94, 'temperatureLowTime': 1560340800, 'apparentTemperatureHigh': 73.4, 'apparentTemperatureHighTime': 1560286800, 'apparentTemperatureLow': 58.94, 'apparentTemperatureLowTime': 1560340800, 'dewPoint': 49.22, 'humidity': 0.55, 'pressure': 1014.04, 'windSpeed': 5.59, 'windGust': 12.92, 'windGustTime': 1560297600, 'windBearing': 233, 'cloudCover': 0.04, 'uvIndex': 10, 'uvIndexTime': 1560283200, 'visibility': 10, 'ozone': 320.81, 'temperatureMin': 60.13, 'temperatureMinTime': 1560254400, 'temperatureMax': 73.4, 'temperatureMaxTime': 1560286800, 'apparentTemperatureMin': 60.13, 'apparentTemperatureMinTime': 1560254400, 'apparentTemperatureMax': 73.4, 'apparentTemperatureMaxTime': 1560286800}, {'time': 1560322800, 'summary': 'Clear throughout the day.', 'icon': 'clear-day', 'sunriseTime': 1560343711, 'sunsetTime': 1560396811, 'moonPhase': 0.35, 'precipIntensity': 0.0001, 'precipIntensityMax': 0.0002, 'precipIntensityMaxTime': 1560340800, 'precipProbability': 0.01, 'precipType': 'rain', 'temperatureHigh': 70.18, 'temperatureHighTime': 1560373200, 'temperatureLow': 56.99, 'temperatureLowTime': 1560420000, 'apparentTemperatureHigh': 70.18, 'apparentTemperatureHighTime': 1560373200, 'apparentTemperatureLow': 56.99, 'apparentTemperatureLowTime': 1560420000, 'dewPoint': 51.61, 'humidity': 0.66, 'pressure': 1013.06, 'windSpeed': 6.66, 'windGust': 14.89, 'windGustTime': 1560384000, 'windBearing': 235, 'cloudCover': 0, 'uvIndex': 10, 'uvIndexTime': 1560369600, 'visibility': 10, 'ozone': 328.48, 'temperatureMin': 58.5, 'temperatureMinTime': 1560405600, 'temperatureMax': 70.18, 'temperatureMaxTime': 1560373200, 'apparentTemperatureMin': 58.5, 'apparentTemperatureMinTime': 1560405600, 'apparentTemperatureMax': 70.18, 'apparentTemperatureMaxTime': 1560373200}, {'time': 1560409200, 'summary': 'Clear throughout the day.', 'icon': 'clear-day', 'sunriseTime': 1560430109, 'sunsetTime': 1560483236, 'moonPhase': 0.38, 'precipIntensity': 0.0002, 'precipIntensityMax': 0.0004, 'precipIntensityMaxTime': 1560434400, 'precipProbability': 0.03, 'precipType': 'rain', 'temperatureHigh': 68.13, 'temperatureHighTime': 1560459600, 'temperatureLow': 56.46, 'temperatureLowTime': 1560517200, 'apparentTemperatureHigh': 68.13, 'apparentTemperatureHighTime': 1560459600, 'apparentTemperatureLow': 56.46, 'apparentTemperatureLowTime': 1560517200, 'dewPoint': 53.24, 'humidity': 0.77, 'pressure': 1012.29, 'windSpeed': 6.55, 'windGust': 12.9, 'windGustTime': 1560470400, 'windBearing': 230, 'cloudCover': 0, 'uvIndex': 9, 'uvIndexTime': 1560452400, 'visibility': 10, 'ozone': 327.07, 'temperatureMin': 56.51, 'temperatureMinTime': 1560492000, 'temperatureMax': 68.13, 'temperatureMaxTime': 1560459600, 'apparentTemperatureMin': 56.51, 'apparentTemperatureMinTime': 1560492000, 'apparentTemperatureMax': 68.13, 'apparentTemperatureMaxTime': 1560459600}]}, 'flags': {'sources': ['nearest-precip', 'nwspa', 'cmc', 'gfs', 'hrrr', 'icon', 'isd', 'madis', 'nam', 'sref', 'darksky'], 'nearest-station': 1.839, 'units': 'us'}, 'offset': -7}\n"
     ]
    }
   ],
   "source": [
    "print(data)"
   ]
  },
  {
   "cell_type": "code",
   "execution_count": 4,
   "metadata": {},
   "outputs": [
    {
     "name": "stdout",
     "output_type": "stream",
     "text": [
      "<class 'dict'>\n"
     ]
    }
   ],
   "source": [
    "print(type(data))"
   ]
  },
  {
   "cell_type": "code",
   "execution_count": 5,
   "metadata": {},
   "outputs": [
    {
     "name": "stdout",
     "output_type": "stream",
     "text": [
      "dict_keys(['latitude', 'longitude', 'timezone', 'currently', 'minutely', 'hourly', 'daily', 'flags', 'offset'])\n"
     ]
    }
   ],
   "source": [
    "print(data.keys())"
   ]
  },
  {
   "cell_type": "code",
   "execution_count": 6,
   "metadata": {},
   "outputs": [
    {
     "name": "stdout",
     "output_type": "stream",
     "text": [
      "57.95\n"
     ]
    }
   ],
   "source": [
    "print(data['currently']['temperature'])"
   ]
  },
  {
   "cell_type": "code",
   "execution_count": 7,
   "metadata": {
    "scrolled": true
   },
   "outputs": [
    {
     "data": {
      "text/plain": [
       "30.78"
      ]
     },
     "execution_count": 7,
     "metadata": {},
     "output_type": "execute_result"
    }
   ],
   "source": [
    "response = requests.get(f'https://api.darksky.net/forecast/{API_KEY}/68,-101')\n",
    "data = response.json()\n",
    "data['currently']['temperature']"
   ]
  },
  {
   "cell_type": "code",
   "execution_count": 8,
   "metadata": {},
   "outputs": [
    {
     "data": {
      "text/plain": [
       "30.78"
      ]
     },
     "execution_count": 8,
     "metadata": {},
     "output_type": "execute_result"
    }
   ],
   "source": [
    "response = requests.get(f'https://api.darksky.net/forecast/{API_KEY}/68,-101')\n",
    "data = response.json()\n",
    "data['currently']['temperature']\n"
   ]
  },
  {
   "cell_type": "code",
   "execution_count": 9,
   "metadata": {},
   "outputs": [],
   "source": [
    "!touch .env"
   ]
  },
  {
   "cell_type": "code",
   "execution_count": 10,
   "metadata": {},
   "outputs": [],
   "source": [
    "!touch .super_secret_file"
   ]
  },
  {
   "cell_type": "code",
   "execution_count": null,
   "metadata": {},
   "outputs": [],
   "source": []
  }
 ],
 "metadata": {
  "kernelspec": {
   "display_name": "Python 3",
   "language": "python",
   "name": "python3"
  },
  "language_info": {
   "codemirror_mode": {
    "name": "ipython",
    "version": 3
   },
   "file_extension": ".py",
   "mimetype": "text/x-python",
   "name": "python",
   "nbconvert_exporter": "python",
   "pygments_lexer": "ipython3",
   "version": "3.7.1"
  }
 },
 "nbformat": 4,
 "nbformat_minor": 2
}
