{
 "cells": [
  {
   "cell_type": "markdown",
   "metadata": {},
   "source": [
    "# SWAPI (Star Wars)\n",
    "\n",
    "Answer the following questions using the [Star Wars](https://swapi.co/). I've added three cells for each question but you're free to use more or less! Hold `Shift` and hit `Enter` to run a cell, and use the `+` on the top left to add a new cell to a notebook.\n",
    "\n",
    "If you spend some time reading the documentation your life will probably be a little bit easier!\n",
    "\n",
    "## 0) Import any libraries you might need\n",
    "\n",
    "- *Tip: We're going to be downloading things from the internet, so we probably need `requests`.*"
   ]
  },
  {
   "cell_type": "code",
   "execution_count": 1,
   "metadata": {},
   "outputs": [],
   "source": [
    "import requests"
   ]
  },
  {
   "cell_type": "code",
   "execution_count": null,
   "metadata": {},
   "outputs": [],
   "source": []
  },
  {
   "cell_type": "code",
   "execution_count": null,
   "metadata": {},
   "outputs": [],
   "source": []
  },
  {
   "cell_type": "markdown",
   "metadata": {},
   "source": [
    "## 1) Make a request to the Star Wars API\n",
    "\n",
    "I've heard there's a new Star Wars film called **Solo**, but it isn't in SWAPI!\n",
    "\n",
    "The most recent film it contains has an ID of 7. Make a request for that film and look at the data."
   ]
  },
  {
   "cell_type": "code",
   "execution_count": 11,
   "metadata": {},
   "outputs": [],
   "source": [
    "response = requests.get('https://swapi.co/api/films/7/')\n",
    "data=response.json()"
   ]
  },
  {
   "cell_type": "code",
   "execution_count": null,
   "metadata": {},
   "outputs": [],
   "source": []
  },
  {
   "cell_type": "code",
   "execution_count": null,
   "metadata": {},
   "outputs": [],
   "source": []
  },
  {
   "cell_type": "markdown",
   "metadata": {},
   "source": [
    "## 2) What is that film's name, and when was it released?\n",
    "\n",
    "Please print **only** the title and the release date. You can guess at the keys, but I recommend checking the documentation."
   ]
  },
  {
   "cell_type": "code",
   "execution_count": 39,
   "metadata": {},
   "outputs": [
    {
     "name": "stdout",
     "output_type": "stream",
     "text": [
      "The Force Awakens\n"
     ]
    }
   ],
   "source": [
    "print(data['title'])"
   ]
  },
  {
   "cell_type": "code",
   "execution_count": 23,
   "metadata": {},
   "outputs": [
    {
     "name": "stdout",
     "output_type": "stream",
     "text": [
      "2015-12-11\n"
     ]
    }
   ],
   "source": [
    "print(data['release_date'])"
   ]
  },
  {
   "cell_type": "code",
   "execution_count": null,
   "metadata": {},
   "outputs": [],
   "source": []
  },
  {
   "cell_type": "markdown",
   "metadata": {},
   "source": [
    "## 3) But I want Han Solo! Use the API to search for people named \"Solo\"."
   ]
  },
  {
   "cell_type": "code",
   "execution_count": 25,
   "metadata": {},
   "outputs": [],
   "source": [
    "response = requests.get('https://swapi.co/api/people/')\n",
    "people_data=response.json()"
   ]
  },
  {
   "cell_type": "code",
   "execution_count": 29,
   "metadata": {},
   "outputs": [
    {
     "name": "stdout",
     "output_type": "stream",
     "text": [
      "dict_keys(['count', 'next', 'previous', 'results'])\n"
     ]
    }
   ],
   "source": [
    "print(people_data.keys())"
   ]
  },
  {
   "cell_type": "code",
   "execution_count": 31,
   "metadata": {},
   "outputs": [],
   "source": [
    "people=people_data['results']"
   ]
  },
  {
   "cell_type": "code",
   "execution_count": 50,
   "metadata": {},
   "outputs": [
    {
     "name": "stdout",
     "output_type": "stream",
     "text": [
      "No such people named Solo\n"
     ]
    }
   ],
   "source": [
    "for p in people:\n",
    "    if p['name']=='Solo':\n",
    "        print(p['name'])\n",
    "else:\n",
    "    print('No such people named Solo')"
   ]
  },
  {
   "cell_type": "markdown",
   "metadata": {},
   "source": [
    "## 4) How many results did you get?\n",
    "\n",
    "Show **two different ways** of displaying this number.\n",
    "\n",
    "- *Tip: One uses the API, and one uses a Python function*"
   ]
  },
  {
   "cell_type": "code",
   "execution_count": 51,
   "metadata": {},
   "outputs": [
    {
     "name": "stdout",
     "output_type": "stream",
     "text": [
      "0\n"
     ]
    }
   ],
   "source": [
    "solo_cnt=0\n",
    "for p in people:\n",
    "    if p['name']=='Solo':\n",
    "        solo_cnt=solo_cnt+1\n",
    "print(solo_cnt)\n"
   ]
  },
  {
   "cell_type": "code",
   "execution_count": null,
   "metadata": {},
   "outputs": [],
   "source": []
  },
  {
   "cell_type": "code",
   "execution_count": null,
   "metadata": {},
   "outputs": [],
   "source": []
  },
  {
   "cell_type": "markdown",
   "metadata": {},
   "source": [
    "## 5) Write me a sentence about Han Solo\n",
    "\n",
    "Your sentence should be say `\"____ has _____ hair, is _____cm tall and weighs ____kg.\"` - make sure you have **no spcaes** between the numbers and `cm`/`kg`."
   ]
  },
  {
   "cell_type": "code",
   "execution_count": 57,
   "metadata": {},
   "outputs": [
    {
     "name": "stdout",
     "output_type": "stream",
     "text": [
      "Han Solo has brown hair, is 180cm tall and weighs 80kg.\n"
     ]
    }
   ],
   "source": [
    "name='Han Solo'\n",
    "hair='brown'\n",
    "height='180'\n",
    "weight='80'\n",
    "print(f'{name} has {hair} hair, is {height}cm tall and weighs {weight}kg.')"
   ]
  },
  {
   "cell_type": "code",
   "execution_count": null,
   "metadata": {},
   "outputs": [],
   "source": []
  },
  {
   "cell_type": "code",
   "execution_count": null,
   "metadata": {},
   "outputs": [],
   "source": []
  },
  {
   "cell_type": "markdown",
   "metadata": {},
   "source": [
    "## 5) Search for C-3PO"
   ]
  },
  {
   "cell_type": "code",
   "execution_count": 62,
   "metadata": {},
   "outputs": [
    {
     "name": "stdout",
     "output_type": "stream",
     "text": [
      "{'name': 'C-3PO', 'height': '167', 'mass': '75', 'hair_color': 'n/a', 'skin_color': 'gold', 'eye_color': 'yellow', 'birth_year': '112BBY', 'gender': 'n/a', 'homeworld': 'https://swapi.co/api/planets/1/', 'films': ['https://swapi.co/api/films/2/', 'https://swapi.co/api/films/5/', 'https://swapi.co/api/films/4/', 'https://swapi.co/api/films/6/', 'https://swapi.co/api/films/3/', 'https://swapi.co/api/films/1/'], 'species': ['https://swapi.co/api/species/2/'], 'vehicles': [], 'starships': [], 'created': '2014-12-10T15:10:51.357000Z', 'edited': '2014-12-20T21:17:50.309000Z', 'url': 'https://swapi.co/api/people/2/'}\n"
     ]
    }
   ],
   "source": [
    "for p in people:\n",
    "    if p['name']=='C-3PO':\n",
    "        print(p)\n"
   ]
  },
  {
   "cell_type": "code",
   "execution_count": null,
   "metadata": {},
   "outputs": [],
   "source": []
  },
  {
   "cell_type": "code",
   "execution_count": null,
   "metadata": {},
   "outputs": [],
   "source": []
  },
  {
   "cell_type": "markdown",
   "metadata": {},
   "source": [
    "## 6) What URL can tell me more about his species? Make a request to the corrent endpoint.\n",
    "\n",
    "Spoiler: he's a **droid**. Are robots a species? I guess so, maybe."
   ]
  },
  {
   "cell_type": "code",
   "execution_count": 63,
   "metadata": {},
   "outputs": [
    {
     "name": "stdout",
     "output_type": "stream",
     "text": [
      "['https://swapi.co/api/species/2/']\n"
     ]
    }
   ],
   "source": [
    "for p in people:\n",
    "    if p['name']=='C-3PO':\n",
    "        print(p['species'])"
   ]
  },
  {
   "cell_type": "code",
   "execution_count": 64,
   "metadata": {},
   "outputs": [],
   "source": [
    "response=requests.get('https://swapi.co/api/species/2/')\n",
    "species_c3po=response.json()"
   ]
  },
  {
   "cell_type": "code",
   "execution_count": null,
   "metadata": {},
   "outputs": [],
   "source": []
  },
  {
   "cell_type": "markdown",
   "metadata": {},
   "source": [
    "## 7) Print out the URL of every droid\n",
    "\n",
    "* *Tip: life will be easier if you don't say `for droid in...` or `for person in` because you aren't looping through droids or people. What are you looping through?*"
   ]
  },
  {
   "cell_type": "code",
   "execution_count": 66,
   "metadata": {},
   "outputs": [
    {
     "name": "stdout",
     "output_type": "stream",
     "text": [
      "{'name': 'Droid', 'classification': 'artificial', 'designation': 'sentient', 'average_height': 'n/a', 'skin_colors': 'n/a', 'hair_colors': 'n/a', 'eye_colors': 'n/a', 'average_lifespan': 'indefinite', 'homeworld': None, 'language': 'n/a', 'people': ['https://swapi.co/api/people/2/', 'https://swapi.co/api/people/3/', 'https://swapi.co/api/people/8/', 'https://swapi.co/api/people/23/', 'https://swapi.co/api/people/87/'], 'films': ['https://swapi.co/api/films/2/', 'https://swapi.co/api/films/7/', 'https://swapi.co/api/films/5/', 'https://swapi.co/api/films/4/', 'https://swapi.co/api/films/6/', 'https://swapi.co/api/films/3/', 'https://swapi.co/api/films/1/'], 'created': '2014-12-10T15:16:16.259000Z', 'edited': '2015-04-17T06:59:43.869528Z', 'url': 'https://swapi.co/api/species/2/'}\n"
     ]
    }
   ],
   "source": [
    "print(species_c3po)"
   ]
  },
  {
   "cell_type": "code",
   "execution_count": 68,
   "metadata": {},
   "outputs": [
    {
     "name": "stdout",
     "output_type": "stream",
     "text": [
      "['https://swapi.co/api/people/2/', 'https://swapi.co/api/people/3/', 'https://swapi.co/api/people/8/', 'https://swapi.co/api/people/23/', 'https://swapi.co/api/people/87/']\n"
     ]
    }
   ],
   "source": [
    "print(species_c3po['people'])"
   ]
  },
  {
   "cell_type": "code",
   "execution_count": null,
   "metadata": {},
   "outputs": [],
   "source": []
  },
  {
   "cell_type": "markdown",
   "metadata": {},
   "source": [
    "## 8) Print out the name of every droid\n",
    "\n",
    "* *Tip: You should start from the last answer, but add more stuff in!*\n",
    "* *Tip: You'll need to make a request every time you're in the loop*\n",
    "* *Tip: Be careful - f you re-use the variable name `data` you'll erase your old `data` variable*"
   ]
  },
  {
   "cell_type": "code",
   "execution_count": 69,
   "metadata": {},
   "outputs": [],
   "source": [
    "droid=species_c3po['people']"
   ]
  },
  {
   "cell_type": "code",
   "execution_count": 72,
   "metadata": {},
   "outputs": [
    {
     "name": "stdout",
     "output_type": "stream",
     "text": [
      "C-3PO\n",
      "R2-D2\n",
      "R5-D4\n",
      "IG-88\n",
      "BB8\n"
     ]
    }
   ],
   "source": [
    "for d in droid:\n",
    "    response=requests.get(d)\n",
    "    d_name=response.json()\n",
    "    print(d_name['name'])\n",
    "    "
   ]
  },
  {
   "cell_type": "code",
   "execution_count": null,
   "metadata": {},
   "outputs": [],
   "source": []
  },
  {
   "cell_type": "markdown",
   "metadata": {},
   "source": [
    "## 9) Print out more about the droid\n",
    "\n",
    "Count the number of films for each droid, printing `\"___ was in ___ films\"` for each of them\n",
    "\n",
    "* *Tip: You might want to look at a single droid result, or print the data in the for loop, so you know how to get the films. Or read the documentation!*"
   ]
  },
  {
   "cell_type": "code",
   "execution_count": 76,
   "metadata": {},
   "outputs": [
    {
     "name": "stdout",
     "output_type": "stream",
     "text": [
      "dict_keys(['name', 'height', 'mass', 'hair_color', 'skin_color', 'eye_color', 'birth_year', 'gender', 'homeworld', 'films', 'species', 'vehicles', 'starships', 'created', 'edited', 'url'])\n"
     ]
    }
   ],
   "source": [
    "for d in droid:\n",
    "    response=requests.get(d)\n",
    "    d_name=response.json()\n",
    "print(d_name.keys())"
   ]
  },
  {
   "cell_type": "code",
   "execution_count": 99,
   "metadata": {},
   "outputs": [
    {
     "name": "stdout",
     "output_type": "stream",
     "text": [
      "C-3PO was in The Empire Strikes Back films.\n",
      "C-3PO was in Attack of the Clones films.\n",
      "C-3PO was in The Phantom Menace films.\n",
      "C-3PO was in Revenge of the Sith films.\n",
      "C-3PO was in Return of the Jedi films.\n",
      "C-3PO was in A New Hope films.\n",
      "R2-D2 was in The Empire Strikes Back films.\n",
      "R2-D2 was in Attack of the Clones films.\n",
      "R2-D2 was in The Phantom Menace films.\n",
      "R2-D2 was in Revenge of the Sith films.\n",
      "R2-D2 was in Return of the Jedi films.\n",
      "R2-D2 was in A New Hope films.\n",
      "R2-D2 was in The Force Awakens films.\n",
      "R5-D4 was in A New Hope films.\n",
      "IG-88 was in The Empire Strikes Back films.\n",
      "BB8 was in The Force Awakens films.\n"
     ]
    }
   ],
   "source": [
    "for d in droid:\n",
    "    response=requests.get(d)\n",
    "    d_name=response.json()\n",
    "    name=d_name['name']\n",
    "    for f in d_name['films']:\n",
    "        response=requests.get(f)\n",
    "        d_film=response.json()\n",
    "        film=d_film['title']\n",
    "        print(name,'was in',film,'films.')\n"
   ]
  },
  {
   "cell_type": "code",
   "execution_count": null,
   "metadata": {},
   "outputs": [],
   "source": []
  },
  {
   "cell_type": "markdown",
   "metadata": {},
   "source": [
    "## 10) Let's be smart and cache the results *[DIFFICULT, maybe!]*\n",
    "\n",
    "So far we've been using a for loop to go through each droid. Every droid, one more request. Every time we want more data, we run the loops again. I don't want that guy to get angry that we're asking for so much data!\n",
    "\n",
    "We want to our list of **droid urls** and turn it into a **list of dictionaries about those droids**. Save it as a variable called `droids`. If you get it correct, the following code should work if you cut and paste it.\n",
    "\n",
    "```python\n",
    "for droid in droids:\n",
    "    print(droid['name'])\n",
    "```\n",
    "\n",
    "* *Tip: Use a list comprehension*\n",
    "* *Tip: So far we've done `response = requests.get..` and `response.json()` on separate lines. You'll need to combine them!*"
   ]
  },
  {
   "cell_type": "code",
   "execution_count": 101,
   "metadata": {},
   "outputs": [
    {
     "name": "stdout",
     "output_type": "stream",
     "text": [
      "['https://swapi.co/api/people/2/', 'https://swapi.co/api/people/3/', 'https://swapi.co/api/people/8/', 'https://swapi.co/api/people/23/', 'https://swapi.co/api/people/87/']\n"
     ]
    }
   ],
   "source": [
    "print(species_c3po['people'])"
   ]
  },
  {
   "cell_type": "code",
   "execution_count": 111,
   "metadata": {},
   "outputs": [
    {
     "name": "stdout",
     "output_type": "stream",
     "text": [
      "[{'name': 'C-3PO', 'height': '167', 'mass': '75', 'hair_color': 'n/a', 'skin_color': 'gold', 'eye_color': 'yellow', 'birth_year': '112BBY', 'gender': 'n/a', 'homeworld': 'https://swapi.co/api/planets/1/', 'films': ['https://swapi.co/api/films/2/', 'https://swapi.co/api/films/5/', 'https://swapi.co/api/films/4/', 'https://swapi.co/api/films/6/', 'https://swapi.co/api/films/3/', 'https://swapi.co/api/films/1/'], 'species': ['https://swapi.co/api/species/2/'], 'vehicles': [], 'starships': [], 'created': '2014-12-10T15:10:51.357000Z', 'edited': '2014-12-20T21:17:50.309000Z', 'url': 'https://swapi.co/api/people/2/'}, {'name': 'R2-D2', 'height': '96', 'mass': '32', 'hair_color': 'n/a', 'skin_color': 'white, blue', 'eye_color': 'red', 'birth_year': '33BBY', 'gender': 'n/a', 'homeworld': 'https://swapi.co/api/planets/8/', 'films': ['https://swapi.co/api/films/2/', 'https://swapi.co/api/films/5/', 'https://swapi.co/api/films/4/', 'https://swapi.co/api/films/6/', 'https://swapi.co/api/films/3/', 'https://swapi.co/api/films/1/', 'https://swapi.co/api/films/7/'], 'species': ['https://swapi.co/api/species/2/'], 'vehicles': [], 'starships': [], 'created': '2014-12-10T15:11:50.376000Z', 'edited': '2014-12-20T21:17:50.311000Z', 'url': 'https://swapi.co/api/people/3/'}, {'name': 'R5-D4', 'height': '97', 'mass': '32', 'hair_color': 'n/a', 'skin_color': 'white, red', 'eye_color': 'red', 'birth_year': 'unknown', 'gender': 'n/a', 'homeworld': 'https://swapi.co/api/planets/1/', 'films': ['https://swapi.co/api/films/1/'], 'species': ['https://swapi.co/api/species/2/'], 'vehicles': [], 'starships': [], 'created': '2014-12-10T15:57:50.959000Z', 'edited': '2014-12-20T21:17:50.321000Z', 'url': 'https://swapi.co/api/people/8/'}, {'name': 'IG-88', 'height': '200', 'mass': '140', 'hair_color': 'none', 'skin_color': 'metal', 'eye_color': 'red', 'birth_year': '15BBY', 'gender': 'none', 'homeworld': 'https://swapi.co/api/planets/28/', 'films': ['https://swapi.co/api/films/2/'], 'species': ['https://swapi.co/api/species/2/'], 'vehicles': [], 'starships': [], 'created': '2014-12-15T12:51:10.076000Z', 'edited': '2014-12-20T21:17:50.351000Z', 'url': 'https://swapi.co/api/people/23/'}, {'name': 'BB8', 'height': 'unknown', 'mass': 'unknown', 'hair_color': 'none', 'skin_color': 'none', 'eye_color': 'black', 'birth_year': 'unknown', 'gender': 'none', 'homeworld': 'https://swapi.co/api/planets/28/', 'films': ['https://swapi.co/api/films/7/'], 'species': ['https://swapi.co/api/species/2/'], 'vehicles': [], 'starships': [], 'created': '2015-04-17T06:57:38.061346Z', 'edited': '2015-04-17T06:57:38.061453Z', 'url': 'https://swapi.co/api/people/87/'}]\n"
     ]
    }
   ],
   "source": [
    "droids=[]\n",
    "for s in species_c3po['people']:\n",
    "    response=requests.get(s)\n",
    "    person=response.json()\n",
    "    droids.append(person)\n",
    "print(droids)\n",
    "\n",
    "    "
   ]
  },
  {
   "cell_type": "code",
   "execution_count": 112,
   "metadata": {},
   "outputs": [
    {
     "name": "stdout",
     "output_type": "stream",
     "text": [
      "C-3PO\n",
      "R2-D2\n",
      "R5-D4\n",
      "IG-88\n",
      "BB8\n"
     ]
    }
   ],
   "source": [
    "for droid in droids:\n",
    "    print(droid['name'])"
   ]
  },
  {
   "cell_type": "markdown",
   "metadata": {},
   "source": [
    "## 11) Get a list of every single planet in the Star Wars universe\n",
    "\n",
    "* *Tip: You'll want to use the API documentation for this, I think*"
   ]
  },
  {
   "cell_type": "code",
   "execution_count": 106,
   "metadata": {},
   "outputs": [],
   "source": [
    "response=requests.get('https://swapi.co/api/planets/')\n",
    "planets=response.json()"
   ]
  },
  {
   "cell_type": "code",
   "execution_count": 108,
   "metadata": {},
   "outputs": [
    {
     "name": "stdout",
     "output_type": "stream",
     "text": [
      "[{'name': 'Alderaan', 'rotation_period': '24', 'orbital_period': '364', 'diameter': '12500', 'climate': 'temperate', 'gravity': '1 standard', 'terrain': 'grasslands, mountains', 'surface_water': '40', 'population': '2000000000', 'residents': ['https://swapi.co/api/people/5/', 'https://swapi.co/api/people/68/', 'https://swapi.co/api/people/81/'], 'films': ['https://swapi.co/api/films/6/', 'https://swapi.co/api/films/1/'], 'created': '2014-12-10T11:35:48.479000Z', 'edited': '2014-12-20T20:58:18.420000Z', 'url': 'https://swapi.co/api/planets/2/'}, {'name': 'Yavin IV', 'rotation_period': '24', 'orbital_period': '4818', 'diameter': '10200', 'climate': 'temperate, tropical', 'gravity': '1 standard', 'terrain': 'jungle, rainforests', 'surface_water': '8', 'population': '1000', 'residents': [], 'films': ['https://swapi.co/api/films/1/'], 'created': '2014-12-10T11:37:19.144000Z', 'edited': '2014-12-20T20:58:18.421000Z', 'url': 'https://swapi.co/api/planets/3/'}, {'name': 'Hoth', 'rotation_period': '23', 'orbital_period': '549', 'diameter': '7200', 'climate': 'frozen', 'gravity': '1.1 standard', 'terrain': 'tundra, ice caves, mountain ranges', 'surface_water': '100', 'population': 'unknown', 'residents': [], 'films': ['https://swapi.co/api/films/2/'], 'created': '2014-12-10T11:39:13.934000Z', 'edited': '2014-12-20T20:58:18.423000Z', 'url': 'https://swapi.co/api/planets/4/'}, {'name': 'Dagobah', 'rotation_period': '23', 'orbital_period': '341', 'diameter': '8900', 'climate': 'murky', 'gravity': 'N/A', 'terrain': 'swamp, jungles', 'surface_water': '8', 'population': 'unknown', 'residents': [], 'films': ['https://swapi.co/api/films/2/', 'https://swapi.co/api/films/6/', 'https://swapi.co/api/films/3/'], 'created': '2014-12-10T11:42:22.590000Z', 'edited': '2014-12-20T20:58:18.425000Z', 'url': 'https://swapi.co/api/planets/5/'}, {'name': 'Bespin', 'rotation_period': '12', 'orbital_period': '5110', 'diameter': '118000', 'climate': 'temperate', 'gravity': '1.5 (surface), 1 standard (Cloud City)', 'terrain': 'gas giant', 'surface_water': '0', 'population': '6000000', 'residents': ['https://swapi.co/api/people/26/'], 'films': ['https://swapi.co/api/films/2/'], 'created': '2014-12-10T11:43:55.240000Z', 'edited': '2014-12-20T20:58:18.427000Z', 'url': 'https://swapi.co/api/planets/6/'}, {'name': 'Endor', 'rotation_period': '18', 'orbital_period': '402', 'diameter': '4900', 'climate': 'temperate', 'gravity': '0.85 standard', 'terrain': 'forests, mountains, lakes', 'surface_water': '8', 'population': '30000000', 'residents': ['https://swapi.co/api/people/30/'], 'films': ['https://swapi.co/api/films/3/'], 'created': '2014-12-10T11:50:29.349000Z', 'edited': '2014-12-20T20:58:18.429000Z', 'url': 'https://swapi.co/api/planets/7/'}, {'name': 'Naboo', 'rotation_period': '26', 'orbital_period': '312', 'diameter': '12120', 'climate': 'temperate', 'gravity': '1 standard', 'terrain': 'grassy hills, swamps, forests, mountains', 'surface_water': '12', 'population': '4500000000', 'residents': ['https://swapi.co/api/people/3/', 'https://swapi.co/api/people/21/', 'https://swapi.co/api/people/36/', 'https://swapi.co/api/people/37/', 'https://swapi.co/api/people/38/', 'https://swapi.co/api/people/39/', 'https://swapi.co/api/people/42/', 'https://swapi.co/api/people/60/', 'https://swapi.co/api/people/61/', 'https://swapi.co/api/people/66/', 'https://swapi.co/api/people/35/'], 'films': ['https://swapi.co/api/films/5/', 'https://swapi.co/api/films/4/', 'https://swapi.co/api/films/6/', 'https://swapi.co/api/films/3/'], 'created': '2014-12-10T11:52:31.066000Z', 'edited': '2014-12-20T20:58:18.430000Z', 'url': 'https://swapi.co/api/planets/8/'}, {'name': 'Coruscant', 'rotation_period': '24', 'orbital_period': '368', 'diameter': '12240', 'climate': 'temperate', 'gravity': '1 standard', 'terrain': 'cityscape, mountains', 'surface_water': 'unknown', 'population': '1000000000000', 'residents': ['https://swapi.co/api/people/34/', 'https://swapi.co/api/people/55/', 'https://swapi.co/api/people/74/'], 'films': ['https://swapi.co/api/films/5/', 'https://swapi.co/api/films/4/', 'https://swapi.co/api/films/6/', 'https://swapi.co/api/films/3/'], 'created': '2014-12-10T11:54:13.921000Z', 'edited': '2014-12-20T20:58:18.432000Z', 'url': 'https://swapi.co/api/planets/9/'}, {'name': 'Kamino', 'rotation_period': '27', 'orbital_period': '463', 'diameter': '19720', 'climate': 'temperate', 'gravity': '1 standard', 'terrain': 'ocean', 'surface_water': '100', 'population': '1000000000', 'residents': ['https://swapi.co/api/people/22/', 'https://swapi.co/api/people/72/', 'https://swapi.co/api/people/73/'], 'films': ['https://swapi.co/api/films/5/'], 'created': '2014-12-10T12:45:06.577000Z', 'edited': '2014-12-20T20:58:18.434000Z', 'url': 'https://swapi.co/api/planets/10/'}, {'name': 'Geonosis', 'rotation_period': '30', 'orbital_period': '256', 'diameter': '11370', 'climate': 'temperate, arid', 'gravity': '0.9 standard', 'terrain': 'rock, desert, mountain, barren', 'surface_water': '5', 'population': '100000000000', 'residents': ['https://swapi.co/api/people/63/'], 'films': ['https://swapi.co/api/films/5/'], 'created': '2014-12-10T12:47:22.350000Z', 'edited': '2014-12-20T20:58:18.437000Z', 'url': 'https://swapi.co/api/planets/11/'}]\n"
     ]
    }
   ],
   "source": [
    "print(planets['results'])"
   ]
  },
  {
   "cell_type": "code",
   "execution_count": 113,
   "metadata": {},
   "outputs": [
    {
     "name": "stdout",
     "output_type": "stream",
     "text": [
      "['Alderaan', 'Yavin IV', 'Hoth', 'Dagobah', 'Bespin', 'Endor', 'Naboo', 'Coruscant', 'Kamino', 'Geonosis']\n"
     ]
    }
   ],
   "source": [
    "titles=[]\n",
    "planets_titles=planets['results']\n",
    "for p in planets_titles:\n",
    "    pl=p['name']\n",
    "    titles.append(pl)\n",
    "print(titles)"
   ]
  },
  {
   "cell_type": "code",
   "execution_count": 118,
   "metadata": {},
   "outputs": [
    {
     "data": {
      "text/plain": [
       "['Alderaan',\n",
       " 'Yavin IV',\n",
       " 'Hoth',\n",
       " 'Dagobah',\n",
       " 'Bespin',\n",
       " 'Endor',\n",
       " 'Naboo',\n",
       " 'Coruscant',\n",
       " 'Kamino',\n",
       " 'Geonosis']"
      ]
     },
     "execution_count": 118,
     "metadata": {},
     "output_type": "execute_result"
    }
   ],
   "source": [
    "[p['name']for p in planets_titles]"
   ]
  },
  {
   "cell_type": "markdown",
   "metadata": {},
   "source": [
    "## 12) How many plants are there? Show me two different ways of displaying the answer.\n",
    "\n",
    "* *Tip: They won't match*"
   ]
  },
  {
   "cell_type": "code",
   "execution_count": 114,
   "metadata": {},
   "outputs": [
    {
     "data": {
      "text/plain": [
       "10"
      ]
     },
     "execution_count": 114,
     "metadata": {},
     "output_type": "execute_result"
    }
   ],
   "source": [
    "len(titles)"
   ]
  },
  {
   "cell_type": "code",
   "execution_count": 115,
   "metadata": {},
   "outputs": [
    {
     "name": "stdout",
     "output_type": "stream",
     "text": [
      "10\n"
     ]
    }
   ],
   "source": [
    "planets_cnt=0\n",
    "planets_titles=planets['results']\n",
    "for p in planets_titles:\n",
    "    pl=p['name']\n",
    "    planets_cnt=planets_cnt+1\n",
    "print(planets_cnt)\n"
   ]
  },
  {
   "cell_type": "code",
   "execution_count": null,
   "metadata": {},
   "outputs": [],
   "source": []
  },
  {
   "cell_type": "markdown",
   "metadata": {},
   "source": [
    "# These questions are all list comprehension questions, if you'd like\n",
    "\n",
    "## 13) Get the population of each of the planets\n",
    "\n",
    "* *Tip: Only use the 10 results for now*\n",
    "* *Tip: Use a list comprehension*"
   ]
  },
  {
   "cell_type": "code",
   "execution_count": 119,
   "metadata": {},
   "outputs": [
    {
     "data": {
      "text/plain": [
       "['2000000000',\n",
       " '1000',\n",
       " 'unknown',\n",
       " 'unknown',\n",
       " '6000000',\n",
       " '30000000',\n",
       " '4500000000',\n",
       " '1000000000000',\n",
       " '1000000000',\n",
       " '100000000000']"
      ]
     },
     "execution_count": 119,
     "metadata": {},
     "output_type": "execute_result"
    }
   ],
   "source": [
    "[p['population']for p in planets_titles]"
   ]
  },
  {
   "cell_type": "code",
   "execution_count": null,
   "metadata": {},
   "outputs": [],
   "source": []
  },
  {
   "cell_type": "code",
   "execution_count": null,
   "metadata": {},
   "outputs": [],
   "source": []
  },
  {
   "cell_type": "markdown",
   "metadata": {},
   "source": [
    "## 14) Get the population of each of the planets, EXCEPT the ones that have a population of `'unknown'`\n",
    "\n",
    "* *Tip: Use a list comprehension with a filter (that's the `..if..` part at the end)*"
   ]
  },
  {
   "cell_type": "code",
   "execution_count": 122,
   "metadata": {},
   "outputs": [
    {
     "data": {
      "text/plain": [
       "['2000000000',\n",
       " '1000',\n",
       " '6000000',\n",
       " '30000000',\n",
       " '4500000000',\n",
       " '1000000000000',\n",
       " '1000000000',\n",
       " '100000000000']"
      ]
     },
     "execution_count": 122,
     "metadata": {},
     "output_type": "execute_result"
    }
   ],
   "source": [
    "[p['population']for p in planets_titles if p['population'] != 'unknown']"
   ]
  },
  {
   "cell_type": "code",
   "execution_count": null,
   "metadata": {},
   "outputs": [],
   "source": []
  },
  {
   "cell_type": "code",
   "execution_count": null,
   "metadata": {},
   "outputs": [],
   "source": []
  },
  {
   "cell_type": "markdown",
   "metadata": {},
   "source": [
    "## 14) Add up the populations\n",
    "\n",
    "* *Tip: They're strings right now, so it isn't going to work unless you change something about them*"
   ]
  },
  {
   "cell_type": "code",
   "execution_count": 132,
   "metadata": {},
   "outputs": [],
   "source": [
    "p_list=[p['population']for p in planets_titles if p['population'] != 'unknown']"
   ]
  },
  {
   "cell_type": "code",
   "execution_count": 140,
   "metadata": {},
   "outputs": [],
   "source": [
    "sum_p=sum([int(i)for i in p_list])"
   ]
  },
  {
   "cell_type": "code",
   "execution_count": 141,
   "metadata": {},
   "outputs": [
    {
     "name": "stdout",
     "output_type": "stream",
     "text": [
      "1107536001000\n"
     ]
    }
   ],
   "source": [
    "print(sum_p)"
   ]
  },
  {
   "cell_type": "markdown",
   "metadata": {},
   "source": [
    "## 15) Print what percentage of the total population each planet has\n",
    "\n",
    "I would like the sentences to be `\"The planet ____ has a population of _____, which is ___% of the total population\"`. If we don't know the planet's population, say `\"We don't know the population of _____\"`.\n",
    "\n",
    "* *Tip: This finally uses a for loop, but also the result of the last question*"
   ]
  },
  {
   "cell_type": "code",
   "execution_count": null,
   "metadata": {},
   "outputs": [],
   "source": []
  },
  {
   "cell_type": "code",
   "execution_count": null,
   "metadata": {},
   "outputs": [],
   "source": []
  },
  {
   "cell_type": "code",
   "execution_count": null,
   "metadata": {},
   "outputs": [],
   "source": []
  },
  {
   "cell_type": "code",
   "execution_count": null,
   "metadata": {},
   "outputs": [],
   "source": [
    "\n",
    "    "
   ]
  }
 ],
 "metadata": {
  "kernelspec": {
   "display_name": "Python 3",
   "language": "python",
   "name": "python3"
  },
  "language_info": {
   "codemirror_mode": {
    "name": "ipython",
    "version": 3
   },
   "file_extension": ".py",
   "mimetype": "text/x-python",
   "name": "python",
   "nbconvert_exporter": "python",
   "pygments_lexer": "ipython3",
   "version": "3.7.1"
  }
 },
 "nbformat": 4,
 "nbformat_minor": 2
}
